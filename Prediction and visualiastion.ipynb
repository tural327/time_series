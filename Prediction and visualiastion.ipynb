{
 "cells": [
  {
   "cell_type": "code",
   "execution_count": 1,
   "id": "aboriginal-dollar",
   "metadata": {},
   "outputs": [],
   "source": [
    "import pandas as pd\n",
    "import matplotlib.pyplot as plt\n",
    "import tensorflow as tf\n",
    "import numpy as np\n",
    "from sklearn.preprocessing import RobustScaler\n",
    "import seaborn as sns"
   ]
  },
  {
   "cell_type": "code",
   "execution_count": 2,
   "id": "horizontal-colorado",
   "metadata": {},
   "outputs": [
    {
     "data": {
      "text/html": [
       "<div>\n",
       "<style scoped>\n",
       "    .dataframe tbody tr th:only-of-type {\n",
       "        vertical-align: middle;\n",
       "    }\n",
       "\n",
       "    .dataframe tbody tr th {\n",
       "        vertical-align: top;\n",
       "    }\n",
       "\n",
       "    .dataframe thead th {\n",
       "        text-align: right;\n",
       "    }\n",
       "</style>\n",
       "<table border=\"1\" class=\"dataframe\">\n",
       "  <thead>\n",
       "    <tr style=\"text-align: right;\">\n",
       "      <th></th>\n",
       "      <th>Date</th>\n",
       "      <th>Open</th>\n",
       "      <th>High</th>\n",
       "      <th>Low</th>\n",
       "      <th>Close</th>\n",
       "      <th>Adj Close</th>\n",
       "      <th>Volume</th>\n",
       "    </tr>\n",
       "  </thead>\n",
       "  <tbody>\n",
       "    <tr>\n",
       "      <th>0</th>\n",
       "      <td>2005-09-29</td>\n",
       "      <td>432.588074</td>\n",
       "      <td>436.787964</td>\n",
       "      <td>407.388763</td>\n",
       "      <td>432.588074</td>\n",
       "      <td>304.904572</td>\n",
       "      <td>76180670.0</td>\n",
       "    </tr>\n",
       "    <tr>\n",
       "      <th>1</th>\n",
       "      <td>2005-09-30</td>\n",
       "      <td>457.787384</td>\n",
       "      <td>457.787384</td>\n",
       "      <td>432.588074</td>\n",
       "      <td>457.787384</td>\n",
       "      <td>322.666016</td>\n",
       "      <td>105493978.0</td>\n",
       "    </tr>\n",
       "    <tr>\n",
       "      <th>2</th>\n",
       "      <td>2005-10-03</td>\n",
       "      <td>470.387024</td>\n",
       "      <td>474.586914</td>\n",
       "      <td>440.987854</td>\n",
       "      <td>470.387024</td>\n",
       "      <td>331.546692</td>\n",
       "      <td>59712955.0</td>\n",
       "    </tr>\n",
       "    <tr>\n",
       "      <th>3</th>\n",
       "      <td>2005-10-04</td>\n",
       "      <td>474.586914</td>\n",
       "      <td>482.986694</td>\n",
       "      <td>466.187164</td>\n",
       "      <td>474.586914</td>\n",
       "      <td>334.506927</td>\n",
       "      <td>56236668.0</td>\n",
       "    </tr>\n",
       "    <tr>\n",
       "      <th>4</th>\n",
       "      <td>2005-10-05</td>\n",
       "      <td>482.986694</td>\n",
       "      <td>482.986694</td>\n",
       "      <td>466.187164</td>\n",
       "      <td>482.986694</td>\n",
       "      <td>340.427429</td>\n",
       "      <td>31319315.0</td>\n",
       "    </tr>\n",
       "  </tbody>\n",
       "</table>\n",
       "</div>"
      ],
      "text/plain": [
       "         Date        Open        High         Low       Close   Adj Close  \\\n",
       "0  2005-09-29  432.588074  436.787964  407.388763  432.588074  304.904572   \n",
       "1  2005-09-30  457.787384  457.787384  432.588074  457.787384  322.666016   \n",
       "2  2005-10-03  470.387024  474.586914  440.987854  470.387024  331.546692   \n",
       "3  2005-10-04  474.586914  482.986694  466.187164  474.586914  334.506927   \n",
       "4  2005-10-05  482.986694  482.986694  466.187164  482.986694  340.427429   \n",
       "\n",
       "        Volume  \n",
       "0   76180670.0  \n",
       "1  105493978.0  \n",
       "2   59712955.0  \n",
       "3   56236668.0  \n",
       "4   31319315.0  "
      ]
     },
     "execution_count": 2,
     "metadata": {},
     "output_type": "execute_result"
    }
   ],
   "source": [
    "df = pd.read_csv(\"ANTM.JK.csv\")\n",
    "df.head()"
   ]
  },
  {
   "cell_type": "code",
   "execution_count": 3,
   "id": "entire-ethiopia",
   "metadata": {},
   "outputs": [
    {
     "data": {
      "text/plain": [
       "Date         0\n",
       "Open         1\n",
       "High         1\n",
       "Low          1\n",
       "Close        1\n",
       "Adj Close    1\n",
       "Volume       1\n",
       "dtype: int64"
      ]
     },
     "execution_count": 3,
     "metadata": {},
     "output_type": "execute_result"
    }
   ],
   "source": [
    "df.isnull().sum()"
   ]
  },
  {
   "cell_type": "code",
   "execution_count": 4,
   "id": "disabled-fusion",
   "metadata": {},
   "outputs": [],
   "source": [
    "df.dropna(inplace=True)"
   ]
  },
  {
   "cell_type": "code",
   "execution_count": 5,
   "id": "front-avenue",
   "metadata": {},
   "outputs": [],
   "source": [
    "df[\"Date\"] = pd.to_datetime(df[\"Date\"] ,infer_datetime_format=True)\n",
    "df1 = df.set_index([\"Date\"])"
   ]
  },
  {
   "cell_type": "code",
   "execution_count": 6,
   "id": "leading-andrew",
   "metadata": {},
   "outputs": [
    {
     "data": {
      "text/html": [
       "<div>\n",
       "<style scoped>\n",
       "    .dataframe tbody tr th:only-of-type {\n",
       "        vertical-align: middle;\n",
       "    }\n",
       "\n",
       "    .dataframe tbody tr th {\n",
       "        vertical-align: top;\n",
       "    }\n",
       "\n",
       "    .dataframe thead th {\n",
       "        text-align: right;\n",
       "    }\n",
       "</style>\n",
       "<table border=\"1\" class=\"dataframe\">\n",
       "  <thead>\n",
       "    <tr style=\"text-align: right;\">\n",
       "      <th></th>\n",
       "      <th>Open</th>\n",
       "      <th>High</th>\n",
       "      <th>Low</th>\n",
       "      <th>Close</th>\n",
       "      <th>Adj Close</th>\n",
       "      <th>Volume</th>\n",
       "    </tr>\n",
       "  </thead>\n",
       "  <tbody>\n",
       "    <tr>\n",
       "      <th>count</th>\n",
       "      <td>3807.000000</td>\n",
       "      <td>3807.000000</td>\n",
       "      <td>3807.000000</td>\n",
       "      <td>3807.000000</td>\n",
       "      <td>3807.000000</td>\n",
       "      <td>3.807000e+03</td>\n",
       "    </tr>\n",
       "    <tr>\n",
       "      <th>mean</th>\n",
       "      <td>1207.953241</td>\n",
       "      <td>1230.793315</td>\n",
       "      <td>1185.663883</td>\n",
       "      <td>1207.159945</td>\n",
       "      <td>1047.459832</td>\n",
       "      <td>6.858102e+07</td>\n",
       "    </tr>\n",
       "    <tr>\n",
       "      <th>std</th>\n",
       "      <td>664.882117</td>\n",
       "      <td>679.635933</td>\n",
       "      <td>649.243280</td>\n",
       "      <td>665.202070</td>\n",
       "      <td>495.685067</td>\n",
       "      <td>1.308133e+08</td>\n",
       "    </tr>\n",
       "    <tr>\n",
       "      <th>min</th>\n",
       "      <td>290.000000</td>\n",
       "      <td>294.000000</td>\n",
       "      <td>285.000000</td>\n",
       "      <td>287.000000</td>\n",
       "      <td>280.434296</td>\n",
       "      <td>0.000000e+00</td>\n",
       "    </tr>\n",
       "    <tr>\n",
       "      <th>25%</th>\n",
       "      <td>768.578796</td>\n",
       "      <td>780.000000</td>\n",
       "      <td>751.779297</td>\n",
       "      <td>765.000000</td>\n",
       "      <td>713.299744</td>\n",
       "      <td>1.420484e+07</td>\n",
       "    </tr>\n",
       "    <tr>\n",
       "      <th>50%</th>\n",
       "      <td>957.573608</td>\n",
       "      <td>978.573059</td>\n",
       "      <td>945.000000</td>\n",
       "      <td>957.573608</td>\n",
       "      <td>902.836792</td>\n",
       "      <td>3.421840e+07</td>\n",
       "    </tr>\n",
       "    <tr>\n",
       "      <th>75%</th>\n",
       "      <td>1595.956055</td>\n",
       "      <td>1621.155273</td>\n",
       "      <td>1570.756714</td>\n",
       "      <td>1595.956055</td>\n",
       "      <td>1347.260193</td>\n",
       "      <td>7.306722e+07</td>\n",
       "    </tr>\n",
       "    <tr>\n",
       "      <th>max</th>\n",
       "      <td>4409.878418</td>\n",
       "      <td>4451.877441</td>\n",
       "      <td>4115.886719</td>\n",
       "      <td>4241.883301</td>\n",
       "      <td>3190.000000</td>\n",
       "      <td>2.186653e+09</td>\n",
       "    </tr>\n",
       "  </tbody>\n",
       "</table>\n",
       "</div>"
      ],
      "text/plain": [
       "              Open         High          Low        Close    Adj Close  \\\n",
       "count  3807.000000  3807.000000  3807.000000  3807.000000  3807.000000   \n",
       "mean   1207.953241  1230.793315  1185.663883  1207.159945  1047.459832   \n",
       "std     664.882117   679.635933   649.243280   665.202070   495.685067   \n",
       "min     290.000000   294.000000   285.000000   287.000000   280.434296   \n",
       "25%     768.578796   780.000000   751.779297   765.000000   713.299744   \n",
       "50%     957.573608   978.573059   945.000000   957.573608   902.836792   \n",
       "75%    1595.956055  1621.155273  1570.756714  1595.956055  1347.260193   \n",
       "max    4409.878418  4451.877441  4115.886719  4241.883301  3190.000000   \n",
       "\n",
       "             Volume  \n",
       "count  3.807000e+03  \n",
       "mean   6.858102e+07  \n",
       "std    1.308133e+08  \n",
       "min    0.000000e+00  \n",
       "25%    1.420484e+07  \n",
       "50%    3.421840e+07  \n",
       "75%    7.306722e+07  \n",
       "max    2.186653e+09  "
      ]
     },
     "execution_count": 6,
     "metadata": {},
     "output_type": "execute_result"
    }
   ],
   "source": [
    "df1.describe()"
   ]
  },
  {
   "cell_type": "code",
   "execution_count": 7,
   "id": "absent-financing",
   "metadata": {},
   "outputs": [
    {
     "data": {
      "text/plain": [
       "<AxesSubplot:>"
      ]
     },
     "execution_count": 7,
     "metadata": {},
     "output_type": "execute_result"
    },
    {
     "data": {
      "image/png": "[encoded data removed]",
      "text/plain": [
       "<Figure size 432x288 with 2 Axes>"
      ]
     },
     "metadata": {
      "needs_background": "light"
     },
     "output_type": "display_data"
    }
   ],
   "source": [
    "sns.heatmap(df1.corr())"
   ]
  },
  {
   "cell_type": "markdown",
   "id": "level-breakdown",
   "metadata": {},
   "source": [
    "Volume less corr. then others "
   ]
  },
  {
   "cell_type": "code",
   "execution_count": 8,
   "id": "protective-vintage",
   "metadata": {},
   "outputs": [],
   "source": [
    "df1.drop([\"Volume\"],axis=1,inplace=True)"
   ]
  },
  {
   "cell_type": "code",
   "execution_count": 9,
   "id": "suffering-dispatch",
   "metadata": {},
   "outputs": [
    {
     "name": "stdout",
     "output_type": "stream",
     "text": [
      "Results of Dickey-Fuller Test:\n",
      "Test Statistic                   -2.507554\n",
      "p-value                           0.113647\n",
      "#Lags Used                       25.000000\n",
      "Number of Observations Used    3781.000000\n",
      "Critical Value (1%)              -3.432081\n",
      "Critical Value (5%)              -2.862305\n",
      "Critical Value (10%)             -2.567177\n",
      "dtype: float64\n"
     ]
    }
   ],
   "source": [
    "from statsmodels.tsa.stattools import adfuller\n",
    "def adf_test(timeseries):\n",
    "    print ('Results of Dickey-Fuller Test:')\n",
    "    dftest = adfuller(timeseries, autolag='AIC')\n",
    "    dfoutput = pd.Series(dftest[0:4], index=['Test Statistic','p-value','#Lags Used','Number of Observations Used'])\n",
    "    for key,value in dftest[4].items():\n",
    "       dfoutput['Critical Value (%s)'%key] = value\n",
    "    print (dfoutput)\n",
    "adf_test(df1['Open'])"
   ]
  },
  {
   "cell_type": "code",
   "execution_count": 10,
   "id": "continuing-praise",
   "metadata": {},
   "outputs": [],
   "source": [
    "#Splitting dataset\n",
    "column_indices = {name: i for i, name in enumerate(df1.columns)}\n",
    "n = len(df1)\n",
    "train_df = df1[0:int(n*0.9)] #90% of data for training \n",
    "test_df = df1[int(n*0.9):] # 10% data for testing section\n",
    "\n",
    "num_features = df.shape[1]"
   ]
  },
  {
   "cell_type": "code",
   "execution_count": 11,
   "id": "negative-black",
   "metadata": {},
   "outputs": [
    {
     "data": {
      "text/plain": [
       "[<matplotlib.lines.Line2D at 0x7fce0f5960d0>]"
      ]
     },
     "execution_count": 11,
     "metadata": {},
     "output_type": "execute_result"
    },
    {
     "data": {
      "image/png": "[encoded data removed]",
      "text/plain": [
       "<Figure size 432x288 with 1 Axes>"
      ]
     },
     "metadata": {
      "needs_background": "light"
     },
     "output_type": "display_data"
    }
   ],
   "source": [
    "plt.plot(df1['Open'])"
   ]
  },
  {
   "cell_type": "code",
   "execution_count": 12,
   "id": "taken-locator",
   "metadata": {},
   "outputs": [],
   "source": [
    "train_mean = train_df.mean()\n",
    "train_std = train_df.std()\n",
    "\n",
    "train_df = (train_df - train_mean) / train_std\n",
    "test_df = (test_df - train_mean) / train_std"
   ]
  },
  {
   "cell_type": "code",
   "execution_count": 13,
   "id": "thorough-workstation",
   "metadata": {},
   "outputs": [],
   "source": [
    "def create_dataset(X, y, time_steps=1):\n",
    "\n",
    "    Xs, ys = [], []\n",
    "\n",
    "    for i in range(len(X) - time_steps):\n",
    "\n",
    "        v = X.iloc[i:(i + time_steps)].values\n",
    "\n",
    "        Xs.append(v)\n",
    "\n",
    "        ys.append(y.iloc[i + time_steps])\n",
    "\n",
    "    return np.array(Xs), np.array(ys)"
   ]
  },
  {
   "cell_type": "code",
   "execution_count": 14,
   "id": "secret-formula",
   "metadata": {},
   "outputs": [
    {
     "name": "stdout",
     "output_type": "stream",
     "text": [
      "(3411, 15, 5) (3411,)\n"
     ]
    }
   ],
   "source": [
    "time_steps = 15\n",
    "\n",
    "# reshape to [samples, time_steps, n_features]\n",
    "\n",
    "X_train, y_train = create_dataset(train_df, train_df.Open, time_steps)\n",
    "\n",
    "X_test, y_test = create_dataset(test_df, test_df.Open, time_steps)\n",
    "\n",
    "print(X_train.shape, y_train.shape)"
   ]
  },
  {
   "cell_type": "code",
   "execution_count": 15,
   "id": "bored-purpose",
   "metadata": {},
   "outputs": [],
   "source": [
    "model = tf.keras.Sequential()\n",
    "\n",
    "model.add(tf.keras.layers.Bidirectional(tf.keras.layers.LSTM(128,input_shape=(X_train.shape[1], X_train.shape[2]))))\n",
    "\n",
    "model.add(tf.keras.layers.Dropout(rate=0.2))\n",
    "\n",
    "model.add(tf.keras.layers.Dense(units=1))\n",
    "\n",
    "model.compile(loss='mean_squared_error', optimizer='adam')"
   ]
  },
  {
   "cell_type": "code",
   "execution_count": 16,
   "id": "cross-mineral",
   "metadata": {},
   "outputs": [
    {
     "name": "stdout",
     "output_type": "stream",
     "text": [
      "Epoch 1/30\n",
      "75/75 [==============================] - 9s 49ms/step - loss: 0.2624 - val_loss: 0.0055\n",
      "Epoch 2/30\n",
      "75/75 [==============================] - 3s 35ms/step - loss: 0.1657 - val_loss: 0.0044\n",
      "Epoch 3/30\n",
      "75/75 [==============================] - 3s 34ms/step - loss: 0.0579 - val_loss: 0.0041\n",
      "Epoch 4/30\n",
      "75/75 [==============================] - 2s 32ms/step - loss: 0.0377 - val_loss: 0.0028\n",
      "Epoch 5/30\n",
      "75/75 [==============================] - 2s 32ms/step - loss: 0.0385 - val_loss: 0.0024\n",
      "Epoch 6/30\n",
      "75/75 [==============================] - 3s 34ms/step - loss: 0.0355 - val_loss: 0.0022\n",
      "Epoch 7/30\n",
      "75/75 [==============================] - 3s 36ms/step - loss: 0.0269 - val_loss: 0.0019\n",
      "Epoch 8/30\n",
      "75/75 [==============================] - 3s 35ms/step - loss: 0.0230 - val_loss: 0.0017\n",
      "Epoch 9/30\n",
      "75/75 [==============================] - 3s 34ms/step - loss: 0.0281 - val_loss: 0.0016\n",
      "Epoch 10/30\n",
      "75/75 [==============================] - 3s 36ms/step - loss: 0.0280 - val_loss: 0.0014\n",
      "Epoch 11/30\n",
      "75/75 [==============================] - 2s 33ms/step - loss: 0.0340 - val_loss: 0.0013\n",
      "Epoch 12/30\n",
      "75/75 [==============================] - 3s 37ms/step - loss: 0.0235 - val_loss: 0.0011\n",
      "Epoch 13/30\n",
      "75/75 [==============================] - 2s 33ms/step - loss: 0.0204 - val_loss: 0.0011\n",
      "Epoch 14/30\n",
      "75/75 [==============================] - 3s 37ms/step - loss: 0.0142 - val_loss: 0.0012\n",
      "Epoch 15/30\n",
      "75/75 [==============================] - 3s 41ms/step - loss: 0.0153 - val_loss: 9.1183e-04\n",
      "Epoch 16/30\n",
      "75/75 [==============================] - 6s 82ms/step - loss: 0.0136 - val_loss: 8.9236e-04\n",
      "Epoch 17/30\n",
      "75/75 [==============================] - 4s 60ms/step - loss: 0.0130 - val_loss: 8.3259e-04\n",
      "Epoch 18/30\n",
      "75/75 [==============================] - 2s 33ms/step - loss: 0.0129 - val_loss: 8.1169e-04\n",
      "Epoch 19/30\n",
      "75/75 [==============================] - 3s 33ms/step - loss: 0.0152 - val_loss: 7.8635e-04\n",
      "Epoch 20/30\n",
      "75/75 [==============================] - 2s 26ms/step - loss: 0.0162 - val_loss: 8.3657e-04\n",
      "Epoch 21/30\n",
      "75/75 [==============================] - 2s 27ms/step - loss: 0.0167 - val_loss: 7.5179e-04\n",
      "Epoch 22/30\n",
      "75/75 [==============================] - 2s 27ms/step - loss: 0.0173 - val_loss: 7.7029e-04\n",
      "Epoch 23/30\n",
      "75/75 [==============================] - 2s 27ms/step - loss: 0.0171 - val_loss: 7.3010e-04\n",
      "Epoch 24/30\n",
      "75/75 [==============================] - 2s 33ms/step - loss: 0.0197 - val_loss: 7.3751e-04\n",
      "Epoch 25/30\n",
      "75/75 [==============================] - 2s 28ms/step - loss: 0.0160 - val_loss: 6.5208e-04\n",
      "Epoch 26/30\n",
      "75/75 [==============================] - 2s 28ms/step - loss: 0.0155 - val_loss: 6.6342e-04\n",
      "Epoch 27/30\n",
      "75/75 [==============================] - 2s 28ms/step - loss: 0.0116 - val_loss: 6.1475e-04\n",
      "Epoch 28/30\n",
      "75/75 [==============================] - 2s 27ms/step - loss: 0.0110 - val_loss: 5.9501e-04\n",
      "Epoch 29/30\n",
      "75/75 [==============================] - 2s 27ms/step - loss: 0.0123 - val_loss: 5.9342e-04\n",
      "Epoch 30/30\n",
      "75/75 [==============================] - 2s 26ms/step - loss: 0.0109 - val_loss: 5.7004e-04\n"
     ]
    }
   ],
   "source": [
    "history = model.fit(\n",
    "\n",
    "    X_train, y_train,\n",
    "\n",
    "    epochs=30,\n",
    "\n",
    "    batch_size=32,\n",
    "\n",
    "    validation_split=0.3,\n",
    "\n",
    "    shuffle=False\n",
    "\n",
    ")"
   ]
  },
  {
   "cell_type": "code",
   "execution_count": 86,
   "id": "wooden-anderson",
   "metadata": {},
   "outputs": [
    {
     "data": {
      "text/plain": [
       "<matplotlib.legend.Legend at 0x7fcdb787dd30>"
      ]
     },
     "execution_count": 86,
     "metadata": {},
     "output_type": "execute_result"
    },
    {
     "data": {
      "image/png": "[encoded data removed]",
      "text/plain": [
       "<Figure size 864x576 with 1 Axes>"
      ]
     },
     "metadata": {
      "needs_background": "light"
     },
     "output_type": "display_data"
    }
   ],
   "source": [
    "plt.figure(figsize=(12,8))\n",
    "plt.plot(history.history[\"loss\"],label=\"loss\")\n",
    "plt.plot(history.history[\"val_loss\"],label=\"val-loss\")\n",
    "plt.legend()"
   ]
  },
  {
   "cell_type": "code",
   "execution_count": 18,
   "id": "convinced-balance",
   "metadata": {},
   "outputs": [],
   "source": [
    "y_pred = model.predict(X_test)"
   ]
  },
  {
   "cell_type": "code",
   "execution_count": 25,
   "id": "running-nomination",
   "metadata": {},
   "outputs": [
    {
     "data": {
      "text/plain": [
       "<matplotlib.legend.Legend at 0x7fcdb7c36130>"
      ]
     },
     "execution_count": 25,
     "metadata": {},
     "output_type": "execute_result"
    },
    {
     "data": {
      "image/png": "[encoded data removed]",
      "text/plain": [
       "<Figure size 864x504 with 1 Axes>"
      ]
     },
     "metadata": {
      "needs_background": "light"
     },
     "output_type": "display_data"
    }
   ],
   "source": [
    "plt.figure(figsize=(12,7))\n",
    "plt.plot(y_test,marker='.',label=\"True\")\n",
    "plt.plot(y_pred,'r',label=\"Predic\")\n",
    "plt.title(\"Reuslts of model\")\n",
    "plt.legend()"
   ]
  },
  {
   "cell_type": "code",
   "execution_count": null,
   "id": "blind-currency",
   "metadata": {},
   "outputs": [],
   "source": []
  }
 ],
 "metadata": {
  "kernelspec": {
   "display_name": "Python 3",
   "language": "python",
   "name": "python3"
  },
  "language_info": {
   "codemirror_mode": {
    "name": "ipython",
    "version": 3
   },
   "file_extension": ".py",
   "mimetype": "text/x-python",
   "name": "python",
   "nbconvert_exporter": "python",
   "pygments_lexer": "ipython3",
   "version": "3.8.5"
  }
 },
 "nbformat": 4,
 "nbformat_minor": 5
}
